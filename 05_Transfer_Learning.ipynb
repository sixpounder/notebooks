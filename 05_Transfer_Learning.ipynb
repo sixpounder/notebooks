{
 "cells": [
  {
   "cell_type": "markdown",
   "metadata": {},
   "source": [
    "# Transfer learning"
   ]
  },
  {
   "cell_type": "code",
   "execution_count": 7,
   "metadata": {},
   "outputs": [
    {
     "name": "stdout",
     "output_type": "stream",
     "text": [
      "Downloading archive...\n"
     ]
    }
   ],
   "source": [
    "# Prepare data\n",
    "\n",
    "import zipfile\n",
    "import urllib.request\n",
    "from os.path import exists\n",
    "\n",
    "if (not exists(\"./datasets/10_food_classes_10_percent.zip\")):\n",
    "    print(\"Downloading archive...\")\n",
    "    urllib.request.urlretrieve(\"https://storage.googleapis.com/ztm_tf_course/food_vision/10_food_classes_10_percent.zip\", \"./datasets/10_food_classes_10_percent.zip\")\n",
    "else:\n",
    "    print(\"Archive already downloaded, unzipping...\")\n",
    "\n",
    "zip_ref = zipfile.ZipFile(\"datasets/10_food_classes_10_percent.zip\")\n",
    "zip_ref.extractall(\"./datasets\")\n",
    "zip_ref.close()"
   ]
  },
  {
   "cell_type": "code",
   "execution_count": 9,
   "metadata": {},
   "outputs": [
    {
     "name": "stdout",
     "output_type": "stream",
     "text": [
      "Found 750 images belonging to 10 classes.\n",
      "Found 2500 images belonging to 10 classes.\n"
     ]
    }
   ],
   "source": [
    "# Create loaders\n",
    "\n",
    "from tensorflow.keras.preprocessing.image import ImageDataGenerator\n",
    "\n",
    "IMG_SHAPE = (224, 224)\n",
    "BATCH_SIZE = 32\n",
    "\n",
    "train_dir = \"datasets/10_food_classes_10_percent/train/\"\n",
    "test_dir = \"datasets/10_food_classes_10_percent/test/\"\n",
    "\n",
    "train_datagen = ImageDataGenerator(rescale=1/255)\n",
    "test_datagen = ImageDataGenerator(rescale=1/255)\n",
    "\n",
    "train_data_10_percent = train_datagen.flow_from_directory(train_dir,\n",
    "                                                          target_size=IMG_SHAPE,\n",
    "                                                          batch_size=BATCH_SIZE,\n",
    "                                                          class_mode=\"categorical\",\n",
    "                                                          shuffle=True)\n",
    "\n",
    "test_data_10_percent = train_datagen.flow_from_directory(test_dir,\n",
    "                                                          target_size=IMG_SHAPE,\n",
    "                                                          batch_size=BATCH_SIZE,\n",
    "                                                          class_mode=\"categorical\",\n",
    "                                                          shuffle=True)\n",
    "                                                          "
   ]
  },
  {
   "cell_type": "markdown",
   "metadata": {},
   "source": [
    "## Callbacks"
   ]
  },
  {
   "cell_type": "markdown",
   "metadata": {},
   "source": [
    "Callbacks are a tool which can add functionality to models during training, evaluation or inference.\n",
    "\n",
    "Some popular ones:\n",
    "\n",
    "* TensorBoard\n",
    "* Model checkpoint\n",
    "* Early stopping"
   ]
  },
  {
   "cell_type": "code",
   "execution_count": 24,
   "metadata": {},
   "outputs": [],
   "source": [
    "# Create tensorboard callback\n",
    "\n",
    "import datetime\n",
    "import tensorflow as tf\n",
    "\n",
    "def create_tensorboard_callback(dir_name, experiment_name):\n",
    "    log_dir = dir_name + \"/\" + experiment_name + \"/\" + datetime.datetime.now().strftime(\"%Y%m%d-%H%M%S\")\n",
    "    tensorboard_callback = tf.keras.callbacks.TensorBoard(log_dir=log_dir)\n",
    "    print(f\"Saving TensorBoard log files to: {log_dir}\")\n",
    "    \n",
    "    return tensorboard_callback\n"
   ]
  },
  {
   "cell_type": "markdown",
   "metadata": {},
   "source": [
    "## Create models with TensorFlow Hub"
   ]
  },
  {
   "cell_type": "code",
   "execution_count": 10,
   "metadata": {},
   "outputs": [],
   "source": [
    "resnet_url = \"https://tfhub.dev/google/imagenet/resnet_v2_50/feature_vector/5\"\n",
    "efficientnet_url = \"https://tfhub.dev/tensorflow/efficientnet/b0/feature-vector/1\""
   ]
  },
  {
   "cell_type": "code",
   "execution_count": 11,
   "metadata": {},
   "outputs": [],
   "source": [
    "# Dependencies\n",
    "\n",
    "import tensorflow as tf\n",
    "import tensorflow_hub as hub\n",
    "from tensorflow.keras import layers"
   ]
  },
  {
   "cell_type": "code",
   "execution_count": 20,
   "metadata": {},
   "outputs": [],
   "source": [
    "def create_model(model_url, num_classes=10):\n",
    "    \"\"\"\n",
    "    Takes a TF hub model and builds a sequential model with it\n",
    "    \"\"\"\n",
    "\n",
    "    feature_extractor_layer = hub.KerasLayer(model_url,\n",
    "                                             trainable=False,\n",
    "                                             name=\"feature_extractor_layer\",\n",
    "                                             input_shape=IMG_SHAPE+(3,)\n",
    "                                            )\n",
    "    \n",
    "    model = tf.keras.Sequential([\n",
    "        feature_extractor_layer,\n",
    "        layers.Dense(num_classes, activation=\"softmax\", name=\"output_layer\")\n",
    "    ])\n",
    "    \n",
    "    return model\n",
    "    "
   ]
  },
  {
   "cell_type": "code",
   "execution_count": 21,
   "metadata": {},
   "outputs": [],
   "source": [
    "resnet_model = create_model(resnet_url, num_classes=train_data_10_percent.num_classes)"
   ]
  },
  {
   "cell_type": "code",
   "execution_count": 22,
   "metadata": {},
   "outputs": [
    {
     "name": "stdout",
     "output_type": "stream",
     "text": [
      "Model: \"sequential_2\"\n",
      "_________________________________________________________________\n",
      " Layer (type)                Output Shape              Param #   \n",
      "=================================================================\n",
      " feature_extractor_layer (Ke  (None, 2048)             23564800  \n",
      " rasLayer)                                                       \n",
      "                                                                 \n",
      " output_layer (Dense)        (None, 10)                20490     \n",
      "                                                                 \n",
      "=================================================================\n",
      "Total params: 23,585,290\n",
      "Trainable params: 20,490\n",
      "Non-trainable params: 23,564,800\n",
      "_________________________________________________________________\n"
     ]
    }
   ],
   "source": [
    "resnet_model.summary()"
   ]
  },
  {
   "cell_type": "code",
   "execution_count": 23,
   "metadata": {},
   "outputs": [],
   "source": [
    "# Compile resnet model\n",
    "\n",
    "resnet_model.compile(loss=\"categorical_crossentropy\", optimizer=tf.keras.optimizers.Adam(), metrics=[\"accuracy\"])"
   ]
  },
  {
   "cell_type": "code",
   "execution_count": 25,
   "metadata": {},
   "outputs": [
    {
     "name": "stdout",
     "output_type": "stream",
     "text": [
      "Saving TensorBoard log files to: logs/resnet/20220906-120816\n",
      "Epoch 1/5\n",
      "24/24 [==============================] - 93s 4s/step - loss: 1.9359 - accuracy: 0.3560 - val_loss: 1.2788 - val_accuracy: 0.5876\n",
      "Epoch 2/5\n",
      "24/24 [==============================] - 89s 4s/step - loss: 0.9118 - accuracy: 0.7333 - val_loss: 0.8786 - val_accuracy: 0.7164\n",
      "Epoch 3/5\n",
      "24/24 [==============================] - 84s 4s/step - loss: 0.6257 - accuracy: 0.8213 - val_loss: 0.7804 - val_accuracy: 0.7424\n",
      "Epoch 4/5\n",
      "24/24 [==============================] - 82s 4s/step - loss: 0.4803 - accuracy: 0.8747 - val_loss: 0.7173 - val_accuracy: 0.7660\n",
      "Epoch 5/5\n",
      "24/24 [==============================] - 83s 4s/step - loss: 0.3788 - accuracy: 0.9107 - val_loss: 0.6892 - val_accuracy: 0.7760\n"
     ]
    },
    {
     "data": {
      "text/plain": [
       "<keras.callbacks.History at 0x7f1412453a00>"
      ]
     },
     "execution_count": 25,
     "metadata": {},
     "output_type": "execute_result"
    }
   ],
   "source": [
    "resnet_history = resnet_model.fit(train_data_10_percent, epochs=5, steps_per_epoch=len(train_data_10_percent), validation_data=test_data_10_percent, validation_steps=len(test_data_10_percent), callbacks=[create_tensorboard_callback(\"logs\", \"resnet\")])"
   ]
  },
  {
   "cell_type": "code",
   "execution_count": 26,
   "metadata": {},
   "outputs": [
    {
     "name": "stdout",
     "output_type": "stream",
     "text": [
      "79/79 [==============================] - 75s 952ms/step - loss: 0.6892 - accuracy: 0.7760\n"
     ]
    },
    {
     "data": {
      "text/plain": [
       "[0.6891564726829529, 0.7760000228881836]"
      ]
     },
     "execution_count": 26,
     "metadata": {},
     "output_type": "execute_result"
    }
   ],
   "source": [
    "resnet_model.evaluate(test_data_10_percent)"
   ]
  },
  {
   "cell_type": "markdown",
   "metadata": {},
   "source": [
    "Try efficientnet now"
   ]
  },
  {
   "cell_type": "code",
   "execution_count": 27,
   "metadata": {},
   "outputs": [],
   "source": [
    "efficientnet_model = create_model(efficientnet_url, num_classes=train_data_10_percent.num_classes)"
   ]
  },
  {
   "cell_type": "code",
   "execution_count": 28,
   "metadata": {},
   "outputs": [
    {
     "name": "stdout",
     "output_type": "stream",
     "text": [
      "Model: \"sequential_3\"\n",
      "_________________________________________________________________\n",
      " Layer (type)                Output Shape              Param #   \n",
      "=================================================================\n",
      " feature_extractor_layer (Ke  (None, 1280)             4049564   \n",
      " rasLayer)                                                       \n",
      "                                                                 \n",
      " output_layer (Dense)        (None, 10)                12810     \n",
      "                                                                 \n",
      "=================================================================\n",
      "Total params: 4,062,374\n",
      "Trainable params: 12,810\n",
      "Non-trainable params: 4,049,564\n",
      "_________________________________________________________________\n"
     ]
    }
   ],
   "source": [
    "efficientnet_model.summary()"
   ]
  },
  {
   "cell_type": "code",
   "execution_count": 29,
   "metadata": {},
   "outputs": [],
   "source": [
    "efficientnet_model.compile(loss=\"categorical_crossentropy\", optimizer=tf.keras.optimizers.Adam(), metrics=[\"accuracy\"])"
   ]
  },
  {
   "cell_type": "code",
   "execution_count": 30,
   "metadata": {},
   "outputs": [
    {
     "name": "stdout",
     "output_type": "stream",
     "text": [
      "Saving TensorBoard log files to: logs/efficientnet/20220906-123510\n",
      "Epoch 1/5\n",
      "24/24 [==============================] - 61s 2s/step - loss: 1.8987 - accuracy: 0.4027 - val_loss: 1.3257 - val_accuracy: 0.7132\n",
      "Epoch 2/5\n",
      "24/24 [==============================] - 51s 2s/step - loss: 1.0762 - accuracy: 0.7760 - val_loss: 0.8790 - val_accuracy: 0.8244\n",
      "Epoch 3/5\n",
      "24/24 [==============================] - 51s 2s/step - loss: 0.7664 - accuracy: 0.8413 - val_loss: 0.6987 - val_accuracy: 0.8528\n",
      "Epoch 4/5\n",
      "24/24 [==============================] - 52s 2s/step - loss: 0.6093 - accuracy: 0.8600 - val_loss: 0.6081 - val_accuracy: 0.8596\n",
      "Epoch 5/5\n",
      "24/24 [==============================] - 52s 2s/step - loss: 0.5142 - accuracy: 0.8880 - val_loss: 0.5557 - val_accuracy: 0.8680\n"
     ]
    }
   ],
   "source": [
    "efficientnet_history = efficientnet_model.fit(train_data_10_percent, epochs=5, steps_per_epoch=len(train_data_10_percent), validation_data=test_data_10_percent, validation_steps=len(test_data_10_percent), callbacks=[create_tensorboard_callback(\"logs\", \"efficientnet\")])"
   ]
  },
  {
   "cell_type": "code",
   "execution_count": 31,
   "metadata": {},
   "outputs": [
    {
     "data": {
      "image/png": "[encoded data removed]",
      "text/plain": [
       "<Figure size 640x480 with 1 Axes>"
      ]
     },
     "metadata": {},
     "output_type": "display_data"
    }
   ],
   "source": [
    "from plot import plot_loss_curve\n",
    "\n",
    "plot_loss_curve(efficientnet_history)"
   ]
  },
  {
   "cell_type": "code",
   "execution_count": null,
   "metadata": {},
   "outputs": [],
   "source": []
  }
 ],
 "metadata": {
  "kernelspec": {
   "display_name": "Python 3 (ipykernel)",
   "language": "python",
   "name": "python3"
  },
  "language_info": {
   "codemirror_mode": {
    "name": "ipython",
    "version": 3
   },
   "file_extension": ".py",
   "mimetype": "text/x-python",
   "name": "python",
   "nbconvert_exporter": "python",
   "pygments_lexer": "ipython3",
   "version": "3.10.6"
  }
 },
 "nbformat": 4,
 "nbformat_minor": 4
}
